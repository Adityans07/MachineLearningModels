{
  "nbformat": 4,
  "nbformat_minor": 0,
  "metadata": {
    "colab": {
      "provenance": []
    },
    "kernelspec": {
      "name": "python3",
      "display_name": "Python 3"
    },
    "language_info": {
      "name": "python"
    }
  },
  "cells": [
    {
      "cell_type": "markdown",
      "source": [
        "Importing Libraries"
      ],
      "metadata": {
        "id": "xl5hWadAMp1-"
      }
    },
    {
      "cell_type": "code",
      "execution_count": 1,
      "metadata": {
        "id": "WIXPY73kMglJ"
      },
      "outputs": [],
      "source": [
        "import pandas as pd\n",
        "import numpy as np\n",
        "import matplotlib.pyplot as plt"
      ]
    },
    {
      "cell_type": "markdown",
      "source": [
        "Importing Dataset"
      ],
      "metadata": {
        "id": "O4ATfugtM39K"
      }
    },
    {
      "cell_type": "code",
      "source": [
        "df = pd.read_csv(\"Position_Salaries.csv\")\n",
        "x = df.iloc[:,1:-1].values\n",
        "y = df.iloc[:,-1].values"
      ],
      "metadata": {
        "id": "OHDfQmHBM1sO"
      },
      "execution_count": 8,
      "outputs": []
    },
    {
      "cell_type": "markdown",
      "source": [
        "Training the Linear Regression Model"
      ],
      "metadata": {
        "id": "GCowcvS1OxrP"
      }
    },
    {
      "cell_type": "code",
      "source": [
        "from sklearn.linear_model import LinearRegression\n",
        "lin_reg = LinearRegression()\n",
        "lin_reg.fit(x,y)"
      ],
      "metadata": {
        "colab": {
          "base_uri": "https://localhost:8080/"
        },
        "id": "1oRUfzsWNFcJ",
        "outputId": "53e0c19f-2958-46ef-a236-c9c375ca6121"
      },
      "execution_count": 9,
      "outputs": [
        {
          "output_type": "execute_result",
          "data": {
            "text/plain": [
              "LinearRegression()"
            ]
          },
          "metadata": {},
          "execution_count": 9
        }
      ]
    },
    {
      "cell_type": "markdown",
      "source": [
        "Training the Polynomial Regression on the whole dataset"
      ],
      "metadata": {
        "id": "gKsrcPkpP_Dm"
      }
    },
    {
      "cell_type": "code",
      "source": [
        "from sklearn.preprocessing import PolynomialFeatures\n",
        "poly_reg = PolynomialFeatures(degree=4)\n",
        "x_poly = poly_reg.fit_transform(x)\n",
        "Lin_reg2 = LinearRegression()\n",
        "Lin_reg2.fit(x_poly,y)"
      ],
      "metadata": {
        "colab": {
          "base_uri": "https://localhost:8080/"
        },
        "id": "CxaEtNfFPAY-",
        "outputId": "3660f040-7756-4513-d841-d51ea61e11e0"
      },
      "execution_count": 22,
      "outputs": [
        {
          "output_type": "execute_result",
          "data": {
            "text/plain": [
              "LinearRegression()"
            ]
          },
          "metadata": {},
          "execution_count": 22
        }
      ]
    },
    {
      "cell_type": "markdown",
      "source": [
        "Visualize the Linear Regression results"
      ],
      "metadata": {
        "id": "2unz-WinSBhh"
      }
    },
    {
      "cell_type": "code",
      "source": [
        "plt.scatter(x,y,color=\"red\")\n",
        "plt.plot(x,lin_reg.predict(x),color=\"blue\")\n",
        "plt.title(\"Truth or Bluff (Linear Regression)\")\n",
        "plt.xlabel(\"Position label\")\n",
        "plt.ylabel(\"Salary\")\n",
        "plt.show()"
      ],
      "metadata": {
        "colab": {
          "base_uri": "https://localhost:8080/",
          "height": 295
        },
        "id": "Uatm46JRQsda",
        "outputId": "6cf5437b-906f-4b2a-ac81-fb7b87d9fe13"
      },
      "execution_count": 18,
      "outputs": [
        {
          "output_type": "display_data",
          "data": {
            "text/plain": [
              "<Figure size 432x288 with 1 Axes>"
            ],
            "image/png": "[encoded data removed]"
          },
          "metadata": {
            "needs_background": "light"
          }
        }
      ]
    },
    {
      "cell_type": "markdown",
      "source": [
        "Visalizing the Polynomial Regresssion results"
      ],
      "metadata": {
        "id": "6u8_bvB5Sxsi"
      }
    },
    {
      "cell_type": "code",
      "source": [
        "plt.scatter(x,y,color=\"red\")\n",
        "plt.plot(x, Lin_reg2.predict(x_poly),color=\"blue\")\n",
        "plt.title(\"Truth or Bluff (Polynomial Linear Regression)\")\n",
        "plt.xlabel(\"Position label\")\n",
        "plt.ylabel(\"Salary\")\n",
        "plt.show()"
      ],
      "metadata": {
        "colab": {
          "base_uri": "https://localhost:8080/",
          "height": 295
        },
        "id": "tf9Esa4WSv2Y",
        "outputId": "1192da10-0b61-4e66-a337-880f2d0cb3f2"
      },
      "execution_count": 23,
      "outputs": [
        {
          "output_type": "display_data",
          "data": {
            "text/plain": [
              "<Figure size 432x288 with 1 Axes>"
            ],
            "image/png": "[encoded data removed]"
          },
          "metadata": {
            "needs_background": "light"
          }
        }
      ]
    },
    {
      "cell_type": "markdown",
      "source": [
        "Visualizing the Polynomial regression results (for higher resolution and smoother cureve)"
      ],
      "metadata": {
        "id": "xK1FlssZVAdp"
      }
    },
    {
      "cell_type": "code",
      "source": [
        "x_grid = np.arange(min(x),max(x),0.1)\n",
        "x_grid = x_grid.reshape((len(x_grid),1))\n",
        "plt.scatter(x,y,color='red')\n",
        "plt.plot(x_grid,Lin_reg2.predict(poly_reg.fit_transform(x_grid)),color=\"blue\")\n",
        "plt.title(\"Truth or Bluff (Polynomial Linear Regression)\")\n",
        "plt.xlabel(\"Position label\")\n",
        "plt.ylabel(\"Salary\")\n",
        "plt.show()"
      ],
      "metadata": {
        "colab": {
          "base_uri": "https://localhost:8080/",
          "height": 295
        },
        "id": "6c1a5E2uTG4M",
        "outputId": "8fa1663c-ae28-4c64-d0a9-fe2bd26ec79e"
      },
      "execution_count": 34,
      "outputs": [
        {
          "output_type": "display_data",
          "data": {
            "text/plain": [
              "<Figure size 432x288 with 1 Axes>"
            ],
            "image/png": "[encoded data removed]"
          },
          "metadata": {
            "needs_background": "light"
          }
        }
      ]
    },
    {
      "cell_type": "markdown",
      "source": [
        "Predicting a new result with Linear Regression"
      ],
      "metadata": {
        "id": "2f0-Run8WztY"
      }
    },
    {
      "cell_type": "code",
      "source": [
        "''' Clearly prediction here is wrong as it showing way far salary than the person \n",
        "was earning in his last company '''\n",
        "lin_reg.predict([[6.5]])"
      ],
      "metadata": {
        "colab": {
          "base_uri": "https://localhost:8080/"
        },
        "id": "bxKByVB3VyTZ",
        "outputId": "0f3a58ee-08b9-4321-ef62-cef817023f16"
      },
      "execution_count": 37,
      "outputs": [
        {
          "output_type": "execute_result",
          "data": {
            "text/plain": [
              "array([330378.78787879])"
            ]
          },
          "metadata": {},
          "execution_count": 37
        }
      ]
    },
    {
      "cell_type": "markdown",
      "source": [
        "Predicting a new result with Polynomial Regression"
      ],
      "metadata": {
        "id": "_qJ7Fy_0X4K3"
      }
    },
    {
      "cell_type": "code",
      "source": [
        "''' This is pretty close to the salary that can be given to the new employee \n",
        "accorfing to his position and experience\n",
        " '''\n",
        "Lin_reg2.predict(poly_reg.fit_transform([[6.5]]))"
      ],
      "metadata": {
        "colab": {
          "base_uri": "https://localhost:8080/"
        },
        "id": "9h-Wm2rPXCpn",
        "outputId": "6d62627b-b1ee-4dde-b2aa-a7b49df5e85c"
      },
      "execution_count": 41,
      "outputs": [
        {
          "output_type": "execute_result",
          "data": {
            "text/plain": [
              "array([158862.45265155])"
            ]
          },
          "metadata": {},
          "execution_count": 41
        }
      ]
    },
    {
      "cell_type": "code",
      "source": [],
      "metadata": {
        "id": "fbnPNofWYNXQ"
      },
      "execution_count": null,
      "outputs": []
    }
  ]
}